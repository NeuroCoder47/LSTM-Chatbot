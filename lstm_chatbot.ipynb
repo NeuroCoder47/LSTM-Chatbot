{
 "cells": [
  {
   "cell_type": "code",
   "execution_count": 1,
   "metadata": {},
   "outputs": [
    {
     "name": "stderr",
     "output_type": "stream",
     "text": [
      "c:\\Users\\ashmi\\Documents\\Artificial Intelligence\\.venv\\Lib\\site-packages\\torchtext\\datasets\\__init__.py:4: UserWarning: \n",
      "/!\\ IMPORTANT WARNING ABOUT TORCHTEXT STATUS /!\\ \n",
      "Torchtext is deprecated and the last released version will be 0.18 (this one). You can silence this warning by calling the following at the beginnign of your scripts: `import torchtext; torchtext.disable_torchtext_deprecation_warning()`\n",
      "  warnings.warn(torchtext._TORCHTEXT_DEPRECATION_MSG)\n",
      "c:\\Users\\ashmi\\Documents\\Artificial Intelligence\\.venv\\Lib\\site-packages\\torchtext\\data\\__init__.py:4: UserWarning: \n",
      "/!\\ IMPORTANT WARNING ABOUT TORCHTEXT STATUS /!\\ \n",
      "Torchtext is deprecated and the last released version will be 0.18 (this one). You can silence this warning by calling the following at the beginnign of your scripts: `import torchtext; torchtext.disable_torchtext_deprecation_warning()`\n",
      "  warnings.warn(torchtext._TORCHTEXT_DEPRECATION_MSG)\n",
      "c:\\Users\\ashmi\\Documents\\Artificial Intelligence\\.venv\\Lib\\site-packages\\torchtext\\vocab\\__init__.py:4: UserWarning: \n",
      "/!\\ IMPORTANT WARNING ABOUT TORCHTEXT STATUS /!\\ \n",
      "Torchtext is deprecated and the last released version will be 0.18 (this one). You can silence this warning by calling the following at the beginnign of your scripts: `import torchtext; torchtext.disable_torchtext_deprecation_warning()`\n",
      "  warnings.warn(torchtext._TORCHTEXT_DEPRECATION_MSG)\n",
      "c:\\Users\\ashmi\\Documents\\Artificial Intelligence\\.venv\\Lib\\site-packages\\torchtext\\utils.py:4: UserWarning: \n",
      "/!\\ IMPORTANT WARNING ABOUT TORCHTEXT STATUS /!\\ \n",
      "Torchtext is deprecated and the last released version will be 0.18 (this one). You can silence this warning by calling the following at the beginnign of your scripts: `import torchtext; torchtext.disable_torchtext_deprecation_warning()`\n",
      "  warnings.warn(torchtext._TORCHTEXT_DEPRECATION_MSG)\n",
      "c:\\Users\\ashmi\\Documents\\Artificial Intelligence\\.venv\\Lib\\site-packages\\torchtext\\transforms.py:4: UserWarning: \n",
      "/!\\ IMPORTANT WARNING ABOUT TORCHTEXT STATUS /!\\ \n",
      "Torchtext is deprecated and the last released version will be 0.18 (this one). You can silence this warning by calling the following at the beginnign of your scripts: `import torchtext; torchtext.disable_torchtext_deprecation_warning()`\n",
      "  warnings.warn(torchtext._TORCHTEXT_DEPRECATION_MSG)\n",
      "c:\\Users\\ashmi\\Documents\\Artificial Intelligence\\.venv\\Lib\\site-packages\\torchtext\\functional.py:4: UserWarning: \n",
      "/!\\ IMPORTANT WARNING ABOUT TORCHTEXT STATUS /!\\ \n",
      "Torchtext is deprecated and the last released version will be 0.18 (this one). You can silence this warning by calling the following at the beginnign of your scripts: `import torchtext; torchtext.disable_torchtext_deprecation_warning()`\n",
      "  warnings.warn(torchtext._TORCHTEXT_DEPRECATION_MSG)\n"
     ]
    }
   ],
   "source": [
    "import pandas as pd\n",
    "import numpy as np\n",
    "import matplotlib.pyplot as plt\n",
    "import os\n",
    "import io\n",
    "import re\n",
    "from tqdm.notebook import trange, tqdm\n",
    "\n",
    "import torch\n",
    "import torch.nn as nn\n",
    "from torch import optim\n",
    "from torch.utils.data import DataLoader\n",
    "from torch.utils.data.dataset import Dataset\n",
    "import torch.nn.functional as F\n",
    "from torch.distributions import Categorical\n",
    "\n",
    "from torchtext.datasets import WikiText2, EnWik9, AG_NEWS\n",
    "from torchtext.data.utils import get_tokenizer\n",
    "from torchtext.vocab import build_vocab_from_iterator\n",
    "import torchtext.transforms as T\n",
    "from torch.hub import load_state_dict_from_url\n",
    "from torchtext.data.functional import sentencepiece_tokenizer, load_sp_model"
   ]
  },
  {
   "cell_type": "code",
   "execution_count": 2,
   "metadata": {},
   "outputs": [],
   "source": [
    "\n",
    "learning_rate = 1e-4\n",
    "\n",
    "\n",
    "nepochs = 40\n",
    "\n",
    "\n",
    "batch_size = 64\n",
    "\n",
    "\n",
    "max_len = 64\n",
    "\n",
    "\n",
    "data_set_root = r\"C:\\Users\\ashmi\\Downloads\\archive_8\\datasets\""
   ]
  },
  {
   "cell_type": "code",
   "execution_count": 3,
   "metadata": {},
   "outputs": [],
   "source": [
    "from torchtext.data.functional import generate_sp_model\n",
    "\n",
    "with open(os.path.join(data_set_root, r\"train.csv\")) as f:\n",
    "    with open(os.path.join(data_set_root, r\"data.txt\"), \"w\") as f2:\n",
    "        for i, line in enumerate(f):\n",
    "            text_only = \"\".join(line.split(\",\")[1:])\n",
    "            filtered = re.sub(r'\\|\\n|;', ' ', text_only.replace('\"', ' ').replace('\\n', ' '))\n",
    "            f2.write(filtered.lower() + \"\\n\")\n",
    "\n",
    "generate_sp_model(os.path.join(data_set_root, r\"data.txt\"), \n",
    "                  vocab_size=20000, model_prefix='spm_user_ya')\n"
   ]
  },
  {
   "cell_type": "code",
   "execution_count": 4,
   "metadata": {},
   "outputs": [
    {
     "name": "stdout",
     "output_type": "stream",
     "text": [
      "data_set_root: C:\\Users\\ashmi\\Downloads\\archive_8\\datasets\n"
     ]
    }
   ],
   "source": [
    "print(f\"data_set_root: {data_set_root}\")\n"
   ]
  },
  {
   "cell_type": "code",
   "execution_count": 5,
   "metadata": {},
   "outputs": [],
   "source": [
    "class AGNews(Dataset):\n",
    "    def __init__(self, num_datapoints, test_train=\"train\"):\n",
    "       \n",
    "        file_path = os.path.join(data_set_root, f\"{test_train}.csv\")\n",
    "        \n",
    "       \n",
    "        self.df = pd.read_csv(file_path, names=[\"Class\", \"Title\", \"Content\"])\n",
    "        \n",
    "        self.df.fillna('', inplace=True)\n",
    "        \n",
    "       \n",
    "        self.df['Article'] = self.df['Title'] + \" : \" + self.df['Content']\n",
    "        \n",
    "     \n",
    "        self.df.drop(['Title', 'Content'], axis=1, inplace=True)\n",
    "        \n",
    "        \n",
    "        self.df['Article'] = self.df['Article'].str.replace(r'\\\\n|\\\\|\\\\r|\\\\r\\\\n|\\n|\"', ' ', regex=True)\n",
    "\n",
    "    \n",
    "    def __getitem__(self, index):\n",
    "   \n",
    "        text = self.df.loc[index][\"Article\"].lower()\n",
    "\n",
    "        return text\n",
    "\n",
    "   \n",
    "    def __len__(self):\n",
    "       \n",
    "        return len(self.df)\n",
    "\n",
    "\n"
   ]
  },
  {
   "cell_type": "code",
   "execution_count": null,
   "metadata": {},
   "outputs": [],
   "source": []
  },
  {
   "cell_type": "code",
   "execution_count": 6,
   "metadata": {},
   "outputs": [],
   "source": [
    "\n",
    "dataset_train = AGNews(num_datapoints=data_set_root, test_train=\"train\")\n",
    "dataset_test = AGNews(num_datapoints=data_set_root, test_train=\"test\")\n",
    "\n",
    "\n",
    "data_loader_train = DataLoader(dataset_train, batch_size=batch_size, shuffle=True, num_workers=0, drop_last=True)\n",
    "\n",
    "data_loader_test = DataLoader(dataset_test, batch_size=batch_size, shuffle=True, num_workers=0, drop_last=True)"
   ]
  },
  {
   "cell_type": "code",
   "execution_count": 7,
   "metadata": {},
   "outputs": [
    {
     "name": "stdout",
     "output_type": "stream",
     "text": [
      "['▁i', '▁am', '▁creating']\n"
     ]
    }
   ],
   "source": [
    "\n",
    "sp_model = load_sp_model(\"spm_user_ya.model\")\n",
    "\n",
    "tokenizer = sentencepiece_tokenizer(sp_model)\n",
    "\n",
    "for token in tokenizer([\"i am creating\"]):\n",
    "    print(token)"
   ]
  },
  {
   "cell_type": "code",
   "execution_count": 8,
   "metadata": {},
   "outputs": [],
   "source": [
    "\n",
    "def yield_tokens(file_path):\n",
    "   \n",
    "    with io.open(file_path, encoding='utf-8') as f:\n",
    "  \n",
    "        for line in f:\n",
    "            \n",
    "            yield [line.split(\"\\t\")[0]]\n",
    "\n",
    "vocab = build_vocab_from_iterator(\n",
    "    yield_tokens(\"spm_user_ya.vocab\"),\n",
    "   \n",
    "    specials=['<pad>', '<sos>', '<eos>', '<unk>'],\n",
    "    special_first=True\n",
    ")\n",
    "\n",
    "\n",
    "vocab.set_default_index(vocab['<unk>'])"
   ]
  },
  {
   "cell_type": "code",
   "execution_count": 9,
   "metadata": {},
   "outputs": [],
   "source": [
    "class TokenDrop(nn.Module):\n",
    "    \"\"\"For a batch of tokens indices, randomly replace a non-specical token with <pad>.\n",
    "    \n",
    "    Args:\n",
    "        prob (float): probability of dropping a token\n",
    "        pad_token (int): index for the <pad> token\n",
    "        num_special (int): Number of special tokens, assumed to be at the start of the vocab\n",
    "    \"\"\"\n",
    "\n",
    "    def __init__(self, prob=0.1, pad_token=0, num_special=4):\n",
    "        self.prob = prob\n",
    "        self.num_special = num_special\n",
    "        self.pad_token = pad_token\n",
    "\n",
    "    def __call__(self, sample):\n",
    "        \n",
    "        mask = torch.bernoulli(self.prob * torch.ones_like(sample)).long()\n",
    "        \n",
    "     \n",
    "        can_drop = (sample >= self.num_special).long()\n",
    "        mask = mask * can_drop\n",
    "        \n",
    "        replace_with = (self.pad_token * torch.ones_like(sample)).long()\n",
    "        \n",
    "        sample_out = (1 - mask) * sample + mask * replace_with\n",
    "        \n",
    "        return sample_out"
   ]
  },
  {
   "cell_type": "code",
   "execution_count": 10,
   "metadata": {},
   "outputs": [],
   "source": [
    "\n",
    "train_transform = T.Sequential(\n",
    "    \n",
    "    T.SentencePieceTokenizer(\"spm_ag_news.model\"),\n",
    "\n",
    "    T.VocabTransform(vocab=vocab),\n",
    "    \n",
    "    T.AddToken(1, begin=True),\n",
    "    \n",
    "    T.Truncate(max_seq_len=max_len),\n",
    "   \n",
    "    T.AddToken(2, begin=False),\n",
    "    \n",
    "    T.ToTensor(padding_value=0)\n",
    ")\n",
    "\n",
    "\n",
    "gen_transform = T.Sequential(\n",
    "\n",
    "    T.SentencePieceTokenizer(\"spm_ag_news.model\"),\n",
    "  \n",
    "    T.VocabTransform(vocab=vocab),\n",
    "   \n",
    "    T.AddToken(1, begin=True),\n",
    "   \n",
    "    T.ToTensor(padding_value=0)\n",
    ")"
   ]
  },
  {
   "cell_type": "code",
   "execution_count": 11,
   "metadata": {},
   "outputs": [
    {
     "name": "stdout",
     "output_type": "stream",
     "text": [
      "BATCH OUTPUT:\n",
      "['debian rejects sender id : developers responsible for the debian linux distribution announced on saturday that they will not implement sender id due to microsoft #39;s insistence on licensing the anti-spam standard.', 'report: mladic gets  $520-a-month serb army pension :  belgrade (reuters) - top war crimes suspect ratko mladic is  getting about  $520 a month in pension payments from the serbia  and montenegro military, the belgrade daily blic reported  wednesday.', 'nortel networks to cut 3,500 : toronto -- nortel networks said yesterday it will slash its workforce by 3,500, or 10 percent, as it struggles to recover from an accounting scandal that toppled three top executives and led to a criminal ...', 'airline warns judge that liquidation is ahead without union pay &lt;b&gt;...&lt;/b&gt; : alexandria, va. us airways is warning a bankruptcy judge that it may have to liquidate as soon as february unless the judge imposes temporary pay cuts of 23 percent on the airline #39;s union workers.', 'schilling gets call for game 1 : weary of fielding questions about his role in the postseason, pedro martinez asked the red sox before tuesday #39;s game against the devil rays to reveal their plans.', 'frontbridge acquires messagerite for message archiving : frontbridge technologies today announced the acquisition of messagerite to broaden the company #39;s service portfolio to include e-mail and instant message archiving.', 'simpsons swallowed whole by dvd of the future : a new technology capable of storing the equivalent of 100 dvds on a single dvd-sized disc has been unveiled by researchers from london #39;s imperial college.', \"moscow police hold chechens for u.s. reporter murder (reuters) : reuters - moscow police have arrested two chechens they suspect of involvement in the murder of an american journalist who wrote about russia's richest people and had also written a book on war and crime in chechnya.\", 'developing countries urged to improve investment climate : financial times, 29 september 2004 - developing countries must take action to reduce corruption and cronyism in order to improve investment climates and promote growth and poverty reduction, the world bank said yesterday.', 'haynes emerges from shadow of williams sisters :  new york (reuters) - we have heard this somewhere before.', 'cricket: sri lanka keeper quits : sri lanka wicket-keeper/batsman romesh kaluwitharana announces his retirement from international cricket.', \"stocks are mixed on surging oil prices : new york - stocks were mixed wednesday as a lower reading on manufacturing activity and rising oil prices chilled an early spate of bargain hunting. technology shares inched higher despite brokerage downgrades of two semiconductor companies    with trading light, the markets were slow to react to the august reading of the institute of supply management's manufacturing index, which declined to 59.0 in august, lower than the 59.8 percent expected on wall street...\", 'ebay to buy rent.com for  $415 mln in cash and stock (update2) : ebay inc., the world #39;s largest web auctioneer, agreed to buy privately held rent.com for  $415 million in cash and stock to expand in the online real-estate market.', 'iraq renews closure of al-jazeera offices : the iraqi interim governmentsaturday renewed closure of offices of the arabic-languagesatellite television network al-jazeera over incitement toviolence.', 'johnny kelley : johnny kelley, who died yesterday at age 97, had a modest way of living that belied his extraordinary athletic feats. his participation in 61 boston marathons, despite the demands of a regular job and without ', 'station crew returns to earth : us astronaut mike fincke descended safely to earth with two cosmonauts aboard a russian soyuz capsule late saturday, houston time, to end a six-month stay aboard the international space station.', 'symantec updates soho gear to battle against worms, phishing : symantec on tuesday introduced versions of its consumer and small business security software with updates that protect against network-scanning worms such as sasser, and keep phishing attacks at bay. ', 'dolphins postpone sunday game : for the second time in three weeks, a tropical disturbance has forced the miami dolphins from participating in an nfl sunday. with hurricane jeanne - a category 2 storm - threatening the east coast of florida ', 'investors fear no fix for netflix : shares of netflix, which pioneered renting movies by mail, plunged as much as 43 percent after the company cut its subscription price and said amazon.', 'boeing delays launch : weather bumped the boeing co. #39;s demonstration launch of the decatur-made delta iv heavy rocket from today to saturday. boeing delayed the inaugural launch of the rocket for 24 hours because of ', 'stocks  amp; bonds rising dollar helps shares gain despite higher oil &lt;b&gt;...&lt;/b&gt; : by the associated press. investors resumed their december rally yesterday, looking past higher oil prices and focusing instead on building up their portfolios before the end of the year.', 'cisse out for season after leg break : liverpool striker djibril cisse will not play again this season after breaking his leg against blackburn yesterday. the 23-year-old france striker was carried off on a stretcher in ', 'five convicted of fraud in barge case : a jury convicted five and acquitted one of six former enron and merrill lynch employees yesterday in the first prosecution arising from the accounting fraud that led to the energy trader #39;s collapse.', 'f1: ecclestone drops british gp : london - the british grand prix was yesterday dropped from next year #39;s calendar after the owners of the silverstone circuit failed to meet the asking price of formula one rights #39; owner bernie ecclestone.', 'woodgate to join real after passing medical : madrid, aug 20 (reuters) - newcastle united defender jonathan woodgate will sign for real madrid after passing a medical on friday, joining the spanish club on a four-year deal for a reported 20 million euros ( $24.74 million). ', 'rowing row simmers : australia #39;s troubled women #39;s rowing crew last night publicly welcomed back sally robbins, but it was an unconvincing display.', 'helping frequent fliers redeem miles for tickets, online : thanks to new technology, it will soon be easier to find out what is available in the murky realm of frequent-flier travel redemption.', 'global arms sales drop again, asia biggest market :  washington (reuters) - global arms sales fell for a third  consecutive year in 2003, dropping to  $25.6 billion from a peak  of  $41 billion in 2000, and asia has overtaken the middle east  as the biggest customer, according to a study released on  monday.', 'singh wins 84 classic, breaks woods #39; record : farmington, pa. -- vijay singh held off stewart cink #39;s fast finish to win the 84 lumber classic by one shot sunday and break tiger woods #39; one-year pga tour money record.', 'n.korea blast scene a construction site -- diplomats (reuters) : reuters - diplomats who visited the scene of a mysterious explosion in north korea said the site was a hydroelectric construction project, and one envoy said more blasts were planned, kyodo news agency reported.', 'pak, india have opened many channels for talks: aziz : pakistan and india have opened many channels for talks and islamabad wanted to settle all issues, including the core issue of kashmir, with new delhi on the basis of mutual respect, said the country #39;s prime minister shaukat aziz.', 'quake aftershocks hit north japan : strong aftershocks have continued to hit japan two days after 24 people died in the country #39;s deadliest earthquake in almost a decade.', 'microsoft earns  $2.9 billion in q1 : (menafn) the world #39;s biggest software company, microsoft corp, said that its first quarter profits grew to  $2.9 billion as consumers and businesses boosted demand for new computers, afp reported.', 'russian oil exports to go north : russia, the world #39;s second-biggest oil exporter, next month will increase northern baltic port loadings on expectations winter storms in the black sea and traffic in the bosporus ', 'hewlett-packard buys synstar : it services company synstar plc, of bracknell, england, has been acquired by hewlett-packard co., of palo alto, for about  $293.3 million.', 'kidde shares up 38 since offer : fire-extinguisher maker kidde yesterday poured more water on wannabe bidder united technology corporation when its chairman said kidde #39;s shareholders had backed the board #39;s rejection of the 1.', 'car production in 1st 3 quarters lower than expected : china #39;s car production and sales this year will be lower than expected and also the lowest increasesince china #39;s entry to the world trade organization three years ago, according to industry experts.', 'bison shed light on big wipeout : new data casts doubt on the popular theory that big north american mammals were wiped out by human hunting.', 'oracle sets new peoplesoft buyout deadline : oracle extended its  $7.7 billion tender offer for all outstanding shares of peoplesoft yet again on thursday, as it waits for us district court judge vaughn walker to issue a decision in an antitrust lawsuit that aims to permanently block the buyout.', 'long summer for airlines : the peak summer travel season traditionally gives the us airlines a revenue lift, but this year struggling carriers will be glad to see the back of the third quarter.', \"s p lifts calif. bond rating 3 notches (reuters) : reuters - standard   poor's ratings services on tuesday raised its general obligation bond rating on california to 'a' from 'bbb,' citing an easing of the golden state's cash crunch.\", 'tesco bid to net music fans : tesco, the uks biggest supermarket chain, is launching an online music service that it hopes will rival apples market-leading itunes.', 'kuwait plans big oil project spending :  kuwait (reuters) - kuwait plans to spend some  $30 billion  to  $40 billion to upgrade its energy sector, and to increase  oil production capacity 60 percent to four million barrels per  day by 2020, top oil officials said in remarks published in  local newspapers on sunday.', 'peoplesoft #39;s courtroom confession : you #39;d think that after the disaster jean-marie messier created at vivendi (nyse: v) by overhyping the prospects of an aging french water utility, no executive would ever again resort to lying about his company #39;s prospects.', 'softbank sues japan government over 3g bandwidth plan (afp) : afp - japanese internet firm softbank corp. asked a court to block a government plan for distributing high-speed bandwidth to mobile phone operators, saying it would bar new entrants until 2012.', 'auto retailer carmax cuts profit outlook (reuters) : reuters - auto retailer carmax inc. (kmx.n) on tuesday said it was cutting its second-quarter earnings forecast due to slower-than-expected used-car sales.', 'kerr frustrated at victory margin : republic of ireland manager brian kerr admitted he was frustrated his side did not score more than one goal in their friendly win over croatia.', 'u.s. pressed halliburton in kuwaiti deal :  washington (reuters) - the u.s. ambassador to kuwait and  other senior u.s. officials put pressure on halliburton &lt;a href= http://www.investor.reuters.com/fullquote.aspx?ticker=hal.n target=/stocks/quickinfo/fullquote &gt;hal.n&lt;/a&gt;  to award a contract to a kuwaiti company suspected of  overcharging to bring fuel into iraq, according to state  department documents released on wednesday.', \"bu to induct four into hall : hockey star david sacco, a two-time first-team all-american and a finalist for the 1993 hobey baker award, leads the list of four former boston university athletes who will be inducted into the school's hall of fame oct. 9.\", 'motor racing: less can be more, say former champions :  london (reuters) - former world champions john surtees and  niki lauda believe formula one needs to go back to its roots,  at least in the short term, to build a brighter future.', 'us games outfit catches rebranding cold : &lt;strong&gt;logowatch&lt;/strong&gt; unpleasant, but not fatal', 'meyer says he #39;s headed for florida : salt lake city urban meyer confirms he #39;s leaving undefeated utah to become the head football coach at florida. meyer said that at florida everything is in place to make a run at the whole thing, and that was a factor in his decision.', 'courts not convinced in apple drm battle : virgin #39;s attempt to force apple to open up its digital rights management (drm) technology has failed. the french competition council has dismissed a virgin france case that alleged apple had abused market dominance.', 'al notables : vladimir guerrero has 121 rbis and 120 runs to join don baylor as the only angels player to reach those totals in each category in the same season. baylor achieved the feat in 1979.', 'zim parly upholds jail sentence : harare - the zimbabwean parliament on thursday voted to uphold a prison sentence on leading opposition white lawmaker roy bennett for shoving justice minister patrick chinamasa to the ground during a heated debate in may.', 'stage set for prince to be crowned cambodia #39;s next king : the stage has been set for a little-known son of king norodom sihanouk to be crowned cambodia #39;s next monarch after the king #39;s surprise abdication last week.', 'to prevent more dirty words, nascar needs to clean up its post &lt;b&gt;...&lt;/b&gt; : it #39;s not often that the lead item in the blog is nascar-related, but we try to be versatile. so let #39;s talk about dale earnhardt jr.', 'cubs agree to terms with garciaparra : chicago, il (sports network) - the chicago cubs tuesday agreed to a contract with shortstop nomar garciaparra. as per team policy, financial terms of the deal were not disclosed.', 'he #39;s one of a kind : toronto -- all the batons had been twirled. the confetti had been shot into the air. the arrr-gos chant had been repeated, oh maybe 100 times.', 'tv project aims to kick-start 3g : high-quality, affordable tv on mobiles could be just what 3g operators are looking for, say researchers.', 'charles schwab lowers certain fees : discount brokerage firm charles schwab corp. said on monday that its brokerage arm will lower retail equity trade commissions, and the pricing changes may reduce revenue for the next year while enhancing its competitive position.', 'cavaliers 106, bobcats 89 : lebron james helped break the game open late in the second quarter by driving baseline for a windmill dunk, one of three crowd-pleasers among james #39; 19 points in cleveland #39;s 106-89 victory thursday night over charlotte.', \"researchers seek to untangle the e-mail thread : e-mail is a victim of its own success. that's the conclusion of ibm corp. researchers in cambridge, who have spent nearly a decade conducting field tests at ibm and other companies about how employees work and use electronic mail. it's clear to them that e-mail has become the internet's killer application.\", \"modernisation plan transforms britain's royal mail (afp) : afp - just two years ago the royal mail was losing over one million pounds (1.4 million euros, 1.9 million dollars) every day.\"]\n",
      "SENTENCE\n",
      "debian rejects sender id : developers responsible for the debian linux distribution announced on saturday that they will not implement sender id due to microsoft #39;s insistence on licensing the anti-spam standard.\n",
      "TOKENS\n",
      "['<sos>', '▁debian', '▁reject', 's', '▁sender', '▁id', '▁:', '▁developers', '▁responsible', '▁for', '▁the', '▁debian', '▁linux', '▁distribution', '▁announced', '▁on', '▁saturday', '▁that', '▁they', '▁will', '▁not', '▁implement', '▁sender', '▁id', '▁due', '▁to', '▁microsoft', '▁#', '39', '<unk>', 's', '▁insist', 'ence', '▁on', '▁licensing', '▁the', '▁anti', '-', 'spam', '▁standard', '.', '<eos>']\n",
      "TOKENS BACK TO SENTENCE\n",
      "<sos> debian rejects sender id : developers responsible for the debian linux distribution announced on saturday that they will not implement sender id due to microsoft #39<unk>s insistence on licensing the anti-spam standard.<eos>\n"
     ]
    }
   ],
   "source": [
    "\n",
    "batch = next(iter(data_loader_train))\n",
    "\n",
    "\n",
    "print(\"BATCH OUTPUT:\")\n",
    "print(batch)\n",
    "\n",
    "\n",
    "index = 0\n",
    "\n",
    "\n",
    "input_tokens = train_transform([batch[index]])\n",
    "\n",
    "\n",
    "print(\"SENTENCE\")\n",
    "print(batch[index])\n",
    "\n",
    "print(\"TOKENS\")\n",
    "print(vocab.lookup_tokens(input_tokens[0].numpy()))\n",
    "\n",
    "\n",
    "pred_text = \"\".join(vocab.lookup_tokens(input_tokens[0].numpy())).replace(\"▁\", \" \")\n",
    "print(\"TOKENS BACK TO SENTENCE\")\n",
    "print(pred_text)\n"
   ]
  },
  {
   "cell_type": "code",
   "execution_count": 12,
   "metadata": {},
   "outputs": [],
   "source": [
    "class LSTM(nn.Module):\n",
    "    def __init__(self, num_emb, num_layers=1, emb_size=128, hidden_size=128):\n",
    "        super(LSTM, self).__init__()\n",
    "        \n",
    "        self.embedding = nn.Embedding(num_emb, emb_size)\n",
    "\n",
    "        self.mlp_emb = nn.Sequential(nn.Linear(emb_size, emb_size),\n",
    "                                     nn.LayerNorm(emb_size),\n",
    "                                     nn.ELU(),\n",
    "                                     nn.Linear(emb_size, emb_size))\n",
    "        \n",
    "        self.lstm = nn.LSTM(input_size=emb_size, hidden_size=hidden_size, \n",
    "                            num_layers=num_layers, batch_first=True, dropout=0.25)\n",
    "\n",
    "        self.mlp_out = nn.Sequential(nn.Linear(hidden_size, hidden_size//2),\n",
    "                                     nn.LayerNorm(hidden_size//2),\n",
    "                                     nn.ELU(),\n",
    "                                     nn.Dropout(0.5),\n",
    "                                     nn.Linear(hidden_size//2, num_emb))\n",
    "        \n",
    "    def forward(self, input_seq, hidden_in, mem_in):\n",
    "        input_embs = self.embedding(input_seq)\n",
    "        input_embs = self.mlp_emb(input_embs)\n",
    "                \n",
    "        output, (hidden_out, mem_out) = self.lstm(input_embs, (hidden_in, mem_in))\n",
    "                \n",
    "        return self.mlp_out(output), hidden_out, mem_out"
   ]
  },
  {
   "cell_type": "code",
   "execution_count": 13,
   "metadata": {},
   "outputs": [],
   "source": [
    "device = torch.device(1 if torch.cuda.is_available() else 'cpu')"
   ]
  },
  {
   "cell_type": "code",
   "execution_count": 14,
   "metadata": {},
   "outputs": [
    {
     "data": {
      "text/plain": [
       "device(type='cuda', index=1)"
      ]
     },
     "execution_count": 14,
     "metadata": {},
     "output_type": "execute_result"
    }
   ],
   "source": [
    "device"
   ]
  },
  {
   "cell_type": "code",
   "execution_count": 15,
   "metadata": {},
   "outputs": [],
   "source": [
    "import torch\n",
    "import torch.optim as optim\n",
    "import torch.nn as nn\n",
    "\n",
    "\n",
    "device = torch.device(\"cuda\" if torch.cuda.is_available() else \"cpu\")\n",
    "\n",
    "\n",
    "emb_size = 256\n",
    "hidden_size = 1024\n",
    "\n",
    "\n",
    "num_layers = 4\n",
    "\n",
    "\n",
    "lstm_generator = LSTM(num_emb=len(vocab), num_layers=num_layers, \n",
    "                      emb_size=emb_size, hidden_size=hidden_size).to(device)\n",
    "\n",
    "\n",
    "optimizer = optim.Adam(lstm_generator.parameters(), lr=learning_rate, weight_decay=1e-4)\n",
    "\n",
    "\n",
    "loss_fn = nn.CrossEntropyLoss()\n",
    "\n",
    "\n",
    "td = TokenDrop(prob=0.1)\n",
    "\n",
    "\n",
    "training_loss_logger = []\n",
    "\n",
    "\n",
    "entropy_logger = []\n",
    "\n",
    "\n"
   ]
  },
  {
   "cell_type": "code",
   "execution_count": 16,
   "metadata": {},
   "outputs": [
    {
     "name": "stdout",
     "output_type": "stream",
     "text": [
      "-This Model Has 46481699 (Approximately 46 Million) Parameters!\n"
     ]
    }
   ],
   "source": [
    "\n",
    "num_model_params = 0\n",
    "for param in lstm_generator.parameters():\n",
    "    num_model_params += param.flatten().shape[0]\n",
    "\n",
    "print(\"-This Model Has %d (Approximately %d Million) Parameters!\" % (num_model_params, num_model_params//1e6))"
   ]
  },
  {
   "cell_type": "code",
   "execution_count": 17,
   "metadata": {},
   "outputs": [
    {
     "data": {
      "application/vnd.jupyter.widget-view+json": {
       "model_id": "2a6ae2604e394cf7b5bc7b0adce86066",
       "version_major": 2,
       "version_minor": 0
      },
      "text/plain": [
       "Epoch:   0%|          | 0/40 [00:00<?, ?it/s]"
      ]
     },
     "metadata": {},
     "output_type": "display_data"
    },
    {
     "data": {
      "application/vnd.jupyter.widget-view+json": {
       "model_id": "48fa60a158334ef6b3fb573727853c96",
       "version_major": 2,
       "version_minor": 0
      },
      "text/plain": [
       "Training:   0%|          | 0/1875 [00:00<?, ?it/s]"
      ]
     },
     "metadata": {},
     "output_type": "display_data"
    },
    {
     "data": {
      "application/vnd.jupyter.widget-view+json": {
       "model_id": "f71d4ac544be4140b2600b9deaba2d7a",
       "version_major": 2,
       "version_minor": 0
      },
      "text/plain": [
       "Training:   0%|          | 0/1875 [00:00<?, ?it/s]"
      ]
     },
     "metadata": {},
     "output_type": "display_data"
    },
    {
     "data": {
      "application/vnd.jupyter.widget-view+json": {
       "model_id": "db8d7bf207cb48b4b1e346b0ab237ac0",
       "version_major": 2,
       "version_minor": 0
      },
      "text/plain": [
       "Training:   0%|          | 0/1875 [00:00<?, ?it/s]"
      ]
     },
     "metadata": {},
     "output_type": "display_data"
    },
    {
     "data": {
      "application/vnd.jupyter.widget-view+json": {
       "model_id": "3ab169020b754f1ba5a6bfb739a32802",
       "version_major": 2,
       "version_minor": 0
      },
      "text/plain": [
       "Training:   0%|          | 0/1875 [00:00<?, ?it/s]"
      ]
     },
     "metadata": {},
     "output_type": "display_data"
    },
    {
     "data": {
      "application/vnd.jupyter.widget-view+json": {
       "model_id": "a0796caaadae4aa5854507f074104da0",
       "version_major": 2,
       "version_minor": 0
      },
      "text/plain": [
       "Training:   0%|          | 0/1875 [00:00<?, ?it/s]"
      ]
     },
     "metadata": {},
     "output_type": "display_data"
    },
    {
     "data": {
      "application/vnd.jupyter.widget-view+json": {
       "model_id": "e9342ed180ae44f9b6b184fd7526ef63",
       "version_major": 2,
       "version_minor": 0
      },
      "text/plain": [
       "Training:   0%|          | 0/1875 [00:00<?, ?it/s]"
      ]
     },
     "metadata": {},
     "output_type": "display_data"
    },
    {
     "data": {
      "application/vnd.jupyter.widget-view+json": {
       "model_id": "b3312e71c18d4736b46ec098f929553b",
       "version_major": 2,
       "version_minor": 0
      },
      "text/plain": [
       "Training:   0%|          | 0/1875 [00:00<?, ?it/s]"
      ]
     },
     "metadata": {},
     "output_type": "display_data"
    },
    {
     "data": {
      "application/vnd.jupyter.widget-view+json": {
       "model_id": "fd90e3a4494647aba0a4fe1cee56eb7f",
       "version_major": 2,
       "version_minor": 0
      },
      "text/plain": [
       "Training:   0%|          | 0/1875 [00:00<?, ?it/s]"
      ]
     },
     "metadata": {},
     "output_type": "display_data"
    },
    {
     "data": {
      "application/vnd.jupyter.widget-view+json": {
       "model_id": "a5bb2cbf98cd4cdb959986b705ccb1d9",
       "version_major": 2,
       "version_minor": 0
      },
      "text/plain": [
       "Training:   0%|          | 0/1875 [00:00<?, ?it/s]"
      ]
     },
     "metadata": {},
     "output_type": "display_data"
    },
    {
     "data": {
      "application/vnd.jupyter.widget-view+json": {
       "model_id": "0b3778d1e9664c67bc3939b83376b019",
       "version_major": 2,
       "version_minor": 0
      },
      "text/plain": [
       "Training:   0%|          | 0/1875 [00:00<?, ?it/s]"
      ]
     },
     "metadata": {},
     "output_type": "display_data"
    },
    {
     "data": {
      "application/vnd.jupyter.widget-view+json": {
       "model_id": "f70860288d554aa1aa74f29a9485a850",
       "version_major": 2,
       "version_minor": 0
      },
      "text/plain": [
       "Training:   0%|          | 0/1875 [00:00<?, ?it/s]"
      ]
     },
     "metadata": {},
     "output_type": "display_data"
    },
    {
     "data": {
      "application/vnd.jupyter.widget-view+json": {
       "model_id": "fdc54c9d6d714916b928309aa25dd2bf",
       "version_major": 2,
       "version_minor": 0
      },
      "text/plain": [
       "Training:   0%|          | 0/1875 [00:00<?, ?it/s]"
      ]
     },
     "metadata": {},
     "output_type": "display_data"
    },
    {
     "data": {
      "application/vnd.jupyter.widget-view+json": {
       "model_id": "02ba33a690f345b5afaf7a8149b35cee",
       "version_major": 2,
       "version_minor": 0
      },
      "text/plain": [
       "Training:   0%|          | 0/1875 [00:00<?, ?it/s]"
      ]
     },
     "metadata": {},
     "output_type": "display_data"
    },
    {
     "data": {
      "application/vnd.jupyter.widget-view+json": {
       "model_id": "496504878a8042b398e8851dfb9875e0",
       "version_major": 2,
       "version_minor": 0
      },
      "text/plain": [
       "Training:   0%|          | 0/1875 [00:00<?, ?it/s]"
      ]
     },
     "metadata": {},
     "output_type": "display_data"
    },
    {
     "data": {
      "application/vnd.jupyter.widget-view+json": {
       "model_id": "abc47376e40349adaf996ea00ea9a2de",
       "version_major": 2,
       "version_minor": 0
      },
      "text/plain": [
       "Training:   0%|          | 0/1875 [00:00<?, ?it/s]"
      ]
     },
     "metadata": {},
     "output_type": "display_data"
    },
    {
     "data": {
      "application/vnd.jupyter.widget-view+json": {
       "model_id": "6fdbb8cd877541fc860b8adc82ad3cd9",
       "version_major": 2,
       "version_minor": 0
      },
      "text/plain": [
       "Training:   0%|          | 0/1875 [00:00<?, ?it/s]"
      ]
     },
     "metadata": {},
     "output_type": "display_data"
    },
    {
     "data": {
      "application/vnd.jupyter.widget-view+json": {
       "model_id": "7da7eec9f76a4e1982988c85b9b1288f",
       "version_major": 2,
       "version_minor": 0
      },
      "text/plain": [
       "Training:   0%|          | 0/1875 [00:00<?, ?it/s]"
      ]
     },
     "metadata": {},
     "output_type": "display_data"
    },
    {
     "data": {
      "application/vnd.jupyter.widget-view+json": {
       "model_id": "83f98a863c1d4575b57c2ee8a42cf66f",
       "version_major": 2,
       "version_minor": 0
      },
      "text/plain": [
       "Training:   0%|          | 0/1875 [00:00<?, ?it/s]"
      ]
     },
     "metadata": {},
     "output_type": "display_data"
    },
    {
     "data": {
      "application/vnd.jupyter.widget-view+json": {
       "model_id": "4826fb8651274541939094b74a25b9dc",
       "version_major": 2,
       "version_minor": 0
      },
      "text/plain": [
       "Training:   0%|          | 0/1875 [00:00<?, ?it/s]"
      ]
     },
     "metadata": {},
     "output_type": "display_data"
    },
    {
     "data": {
      "application/vnd.jupyter.widget-view+json": {
       "model_id": "22e42e2e118f4ae9b157831d3b3bbd84",
       "version_major": 2,
       "version_minor": 0
      },
      "text/plain": [
       "Training:   0%|          | 0/1875 [00:00<?, ?it/s]"
      ]
     },
     "metadata": {},
     "output_type": "display_data"
    },
    {
     "data": {
      "application/vnd.jupyter.widget-view+json": {
       "model_id": "3858486fb4414014a993a36de9276af0",
       "version_major": 2,
       "version_minor": 0
      },
      "text/plain": [
       "Training:   0%|          | 0/1875 [00:00<?, ?it/s]"
      ]
     },
     "metadata": {},
     "output_type": "display_data"
    },
    {
     "data": {
      "application/vnd.jupyter.widget-view+json": {
       "model_id": "a0e03574220d4bd4abdbe98fd16c3aba",
       "version_major": 2,
       "version_minor": 0
      },
      "text/plain": [
       "Training:   0%|          | 0/1875 [00:00<?, ?it/s]"
      ]
     },
     "metadata": {},
     "output_type": "display_data"
    },
    {
     "data": {
      "application/vnd.jupyter.widget-view+json": {
       "model_id": "b5b565529b9145bbb32eaa923f92391f",
       "version_major": 2,
       "version_minor": 0
      },
      "text/plain": [
       "Training:   0%|          | 0/1875 [00:00<?, ?it/s]"
      ]
     },
     "metadata": {},
     "output_type": "display_data"
    },
    {
     "data": {
      "application/vnd.jupyter.widget-view+json": {
       "model_id": "a66f92051df14d6e91cb80d1ed8342f5",
       "version_major": 2,
       "version_minor": 0
      },
      "text/plain": [
       "Training:   0%|          | 0/1875 [00:00<?, ?it/s]"
      ]
     },
     "metadata": {},
     "output_type": "display_data"
    },
    {
     "data": {
      "application/vnd.jupyter.widget-view+json": {
       "model_id": "826a74bc6bfd44d6b18b623a38b29a22",
       "version_major": 2,
       "version_minor": 0
      },
      "text/plain": [
       "Training:   0%|          | 0/1875 [00:00<?, ?it/s]"
      ]
     },
     "metadata": {},
     "output_type": "display_data"
    },
    {
     "data": {
      "application/vnd.jupyter.widget-view+json": {
       "model_id": "031d0015b92f42e8a3f1664384622c9f",
       "version_major": 2,
       "version_minor": 0
      },
      "text/plain": [
       "Training:   0%|          | 0/1875 [00:00<?, ?it/s]"
      ]
     },
     "metadata": {},
     "output_type": "display_data"
    },
    {
     "data": {
      "application/vnd.jupyter.widget-view+json": {
       "model_id": "0865a0b72bf647fbbbc33f354d2fe126",
       "version_major": 2,
       "version_minor": 0
      },
      "text/plain": [
       "Training:   0%|          | 0/1875 [00:00<?, ?it/s]"
      ]
     },
     "metadata": {},
     "output_type": "display_data"
    },
    {
     "data": {
      "application/vnd.jupyter.widget-view+json": {
       "model_id": "00743ae0774647558bb1e30615aebad2",
       "version_major": 2,
       "version_minor": 0
      },
      "text/plain": [
       "Training:   0%|          | 0/1875 [00:00<?, ?it/s]"
      ]
     },
     "metadata": {},
     "output_type": "display_data"
    },
    {
     "data": {
      "application/vnd.jupyter.widget-view+json": {
       "model_id": "1e10e29adce949d48e1005fabeb34e6a",
       "version_major": 2,
       "version_minor": 0
      },
      "text/plain": [
       "Training:   0%|          | 0/1875 [00:00<?, ?it/s]"
      ]
     },
     "metadata": {},
     "output_type": "display_data"
    },
    {
     "data": {
      "application/vnd.jupyter.widget-view+json": {
       "model_id": "0945a2363fe7490f8e564424cd4c21c6",
       "version_major": 2,
       "version_minor": 0
      },
      "text/plain": [
       "Training:   0%|          | 0/1875 [00:00<?, ?it/s]"
      ]
     },
     "metadata": {},
     "output_type": "display_data"
    },
    {
     "data": {
      "application/vnd.jupyter.widget-view+json": {
       "model_id": "d0035537b4294edaa980aa4cd4d5b0f4",
       "version_major": 2,
       "version_minor": 0
      },
      "text/plain": [
       "Training:   0%|          | 0/1875 [00:00<?, ?it/s]"
      ]
     },
     "metadata": {},
     "output_type": "display_data"
    },
    {
     "data": {
      "application/vnd.jupyter.widget-view+json": {
       "model_id": "4d946ccbf048462f8befa4abd4b613a8",
       "version_major": 2,
       "version_minor": 0
      },
      "text/plain": [
       "Training:   0%|          | 0/1875 [00:00<?, ?it/s]"
      ]
     },
     "metadata": {},
     "output_type": "display_data"
    },
    {
     "data": {
      "application/vnd.jupyter.widget-view+json": {
       "model_id": "da11aacf046b4cc4b043c2bfd52319fe",
       "version_major": 2,
       "version_minor": 0
      },
      "text/plain": [
       "Training:   0%|          | 0/1875 [00:00<?, ?it/s]"
      ]
     },
     "metadata": {},
     "output_type": "display_data"
    },
    {
     "data": {
      "application/vnd.jupyter.widget-view+json": {
       "model_id": "85fd3b2991ab4f718d484d4b47984c25",
       "version_major": 2,
       "version_minor": 0
      },
      "text/plain": [
       "Training:   0%|          | 0/1875 [00:00<?, ?it/s]"
      ]
     },
     "metadata": {},
     "output_type": "display_data"
    },
    {
     "data": {
      "application/vnd.jupyter.widget-view+json": {
       "model_id": "6019540752134681ae225bd81125978d",
       "version_major": 2,
       "version_minor": 0
      },
      "text/plain": [
       "Training:   0%|          | 0/1875 [00:00<?, ?it/s]"
      ]
     },
     "metadata": {},
     "output_type": "display_data"
    },
    {
     "data": {
      "application/vnd.jupyter.widget-view+json": {
       "model_id": "d4504398a21b489ca93bff4b293fb014",
       "version_major": 2,
       "version_minor": 0
      },
      "text/plain": [
       "Training:   0%|          | 0/1875 [00:00<?, ?it/s]"
      ]
     },
     "metadata": {},
     "output_type": "display_data"
    },
    {
     "data": {
      "application/vnd.jupyter.widget-view+json": {
       "model_id": "c13de943e806491d97ebf6e7401b2e0b",
       "version_major": 2,
       "version_minor": 0
      },
      "text/plain": [
       "Training:   0%|          | 0/1875 [00:00<?, ?it/s]"
      ]
     },
     "metadata": {},
     "output_type": "display_data"
    },
    {
     "data": {
      "application/vnd.jupyter.widget-view+json": {
       "model_id": "a6c8bc70faf04c0da023bc69b615b02f",
       "version_major": 2,
       "version_minor": 0
      },
      "text/plain": [
       "Training:   0%|          | 0/1875 [00:00<?, ?it/s]"
      ]
     },
     "metadata": {},
     "output_type": "display_data"
    },
    {
     "data": {
      "application/vnd.jupyter.widget-view+json": {
       "model_id": "95fba2e1fd2247179f636c477099dcfd",
       "version_major": 2,
       "version_minor": 0
      },
      "text/plain": [
       "Training:   0%|          | 0/1875 [00:00<?, ?it/s]"
      ]
     },
     "metadata": {},
     "output_type": "display_data"
    },
    {
     "data": {
      "application/vnd.jupyter.widget-view+json": {
       "model_id": "972f8f8a3a8d4bb0ad71728ef912127a",
       "version_major": 2,
       "version_minor": 0
      },
      "text/plain": [
       "Training:   0%|          | 0/1875 [00:00<?, ?it/s]"
      ]
     },
     "metadata": {},
     "output_type": "display_data"
    }
   ],
   "source": [
    "\n",
    "for epoch in trange(0, nepochs, leave=False, desc=\"Epoch\"):\n",
    "  \n",
    "    lstm_generator.train()\n",
    "    steps = 0\n",
    "\n",
    "    for text in tqdm(data_loader_train, desc=\"Training\", leave=False):\n",
    "     \n",
    "        text_tokens = train_transform(list(text)).to(device)\n",
    "        bs = text_tokens.shape[0]\n",
    "        \n",
    "       \n",
    "        input_text = td(text_tokens[:, 0:-1])\n",
    "        output_text = text_tokens[:, 1:]\n",
    "        \n",
    "\n",
    "        hidden = torch.zeros(num_layers, bs, hidden_size, device=device)\n",
    "        memory = torch.zeros(num_layers, bs, hidden_size, device=device)\n",
    "        \n",
    "        \n",
    "        pred, hidden, memory = lstm_generator(input_text, hidden, memory)\n",
    "\n",
    "\n",
    "        loss = loss_fn(pred.transpose(1, 2), output_text)\n",
    "        \n",
    "    \n",
    "        optimizer.zero_grad()\n",
    "        loss.backward()\n",
    "        optimizer.step()\n",
    "        \n",
    "       \n",
    "        with torch.no_grad():\n",
    "            dist = Categorical(logits=pred)\n",
    "            entropy_logger.append(dist.entropy().mean().item())"
   ]
  },
  {
   "cell_type": "code",
   "execution_count": 18,
   "metadata": {},
   "outputs": [
    {
     "name": "stdout",
     "output_type": "stream",
     "text": [
      "Model saved successfully.\n"
     ]
    }
   ],
   "source": [
    "\n",
    "torch.save(lstm_generator.state_dict(), 'lstm_generator_model.pth')\n",
    "print(\"Model saved successfully.\")"
   ]
  },
  {
   "cell_type": "code",
   "execution_count": 19,
   "metadata": {},
   "outputs": [
    {
     "data": {
      "image/png": "[encoded data removed]",
      "text/plain": [
       "<Figure size 1000x500 with 1 Axes>"
      ]
     },
     "metadata": {},
     "output_type": "display_data"
    }
   ],
   "source": [
    "_ = plt.figure(figsize=(10, 5))\n",
    "_ = plt.plot(training_loss_logger[100:])\n",
    "_ = plt.title(\"Training Loss\")"
   ]
  },
  {
   "cell_type": "code",
   "execution_count": 20,
   "metadata": {},
   "outputs": [
    {
     "data": {
      "image/png": "[encoded data removed]",
      "text/plain": [
       "<Figure size 1000x500 with 1 Axes>"
      ]
     },
     "metadata": {},
     "output_type": "display_data"
    }
   ],
   "source": [
    "_ = plt.figure(figsize=(10, 5))\n",
    "_ = plt.plot(entropy_logger[1000:])\n",
    "_ = plt.title(\"Distribution Entropy\")"
   ]
  },
  {
   "cell_type": "code",
   "execution_count": 27,
   "metadata": {},
   "outputs": [
    {
     "name": "stdout",
     "output_type": "stream",
     "text": [
      "INITIAL PROMPT:\n",
      "what is google :\n",
      "\n",
      "PROMPT TOKENS:\n",
      "tensor([[    1, 19616, 11724, 10475,  4576]], device='cuda:0')\n",
      "['<sos>', '▁what', '▁is', '▁google', '▁:']\n"
     ]
    }
   ],
   "source": [
    "\n",
    "index = 0\n",
    "\n",
    "\n",
    "temp = 0.9\n",
    "\n",
    "\n",
    "init_prompt = [\"what is google :\"]\n",
    "\n",
    "\n",
    "input_tokens = gen_transform(init_prompt).to(device)\n",
    "\n",
    "print(\"INITIAL PROMPT:\")\n",
    "print(init_prompt[0])\n",
    "\n",
    "print(\"\\nPROMPT TOKENS:\")\n",
    "print(input_tokens)\n",
    "print(vocab.lookup_tokens(input_tokens[0].cpu().numpy()))"
   ]
  },
  {
   "cell_type": "code",
   "execution_count": 28,
   "metadata": {},
   "outputs": [],
   "source": [
    "log_tokens = []\n",
    "\n",
    "\n",
    "lstm_generator.eval()\n",
    "\n",
    "\n",
    "with torch.no_grad():    \n",
    "\n",
    "    hidden = torch.zeros(num_layers, 1, hidden_size, device=device)\n",
    "    memory = torch.zeros(num_layers, 1, hidden_size, device=device)\n",
    "    \n",
    "\n",
    "    for i in range(100):\n",
    "\n",
    "        data_pred, hidden, memory = lstm_generator(input_tokens, hidden, memory)\n",
    "        \n",
    "\n",
    "        dist = Categorical(logits=data_pred[:, -1] / temp)\n",
    "        input_tokens = dist.sample().reshape(1, 1)\n",
    "\n",
    "        log_tokens.append(input_tokens.cpu())\n",
    "        \n",
    "\n",
    "        if input_tokens.item() == 2:\n",
    "            break"
   ]
  },
  {
   "cell_type": "code",
   "execution_count": 29,
   "metadata": {},
   "outputs": [
    {
     "name": "stdout",
     "output_type": "stream",
     "text": [
      "▁a▁10-week▁20-year▁extension▁of▁a▁new▁search▁engine▁icon▁web▁site▁in▁the▁u.s.▁department▁of▁corporate▁information▁has▁introduced▁the▁search▁engine▁to▁the▁search▁engine<unk>▁google▁inc.▁said▁yesterday.▁five▁company▁executives▁behind▁the▁potentially▁all▁of▁the▁all-in-quiet▁equipment▁companies<eos>\n"
     ]
    }
   ],
   "source": [
    "\n",
    "pred_text = \"\".join(vocab.lookup_tokens(torch.cat(log_tokens, 1)[0].numpy()))\n",
    "print(pred_text)"
   ]
  },
  {
   "cell_type": "code",
   "execution_count": 30,
   "metadata": {},
   "outputs": [
    {
     "data": {
      "text/plain": [
       "'what is google : a 10-week 20-year extension of a new search engine icon web site in the u.s. department of corporate information has introduced the search engine to the search engine google inc. said yesterday. five company executives behind the potentially all of the all-in-quiet equipment companies<eos>'"
      ]
     },
     "execution_count": 30,
     "metadata": {},
     "output_type": "execute_result"
    }
   ],
   "source": [
    "\n",
    "init_prompt[0] + pred_text.replace(\"▁\", \" \").replace(\"<unk>\", \"\")"
   ]
  },
  {
   "cell_type": "code",
   "execution_count": 26,
   "metadata": {},
   "outputs": [
    {
     "data": {
      "image/png": "[encoded data removed]",
      "text/plain": [
       "<Figure size 640x480 with 1 Axes>"
      ]
     },
     "metadata": {},
     "output_type": "display_data"
    }
   ],
   "source": [
    "# Lets have a look at the probabilities\n",
    "_ = plt.plot(F.softmax(data_pred/temp, -1).cpu().numpy().flatten())"
   ]
  },
  {
   "cell_type": "code",
   "execution_count": null,
   "metadata": {},
   "outputs": [],
   "source": []
  }
 ],
 "metadata": {
  "kernelspec": {
   "display_name": ".venv",
   "language": "python",
   "name": "python3"
  },
  "language_info": {
   "codemirror_mode": {
    "name": "ipython",
    "version": 3
   },
   "file_extension": ".py",
   "mimetype": "text/x-python",
   "name": "python",
   "nbconvert_exporter": "python",
   "pygments_lexer": "ipython3",
   "version": "3.12.5"
  }
 },
 "nbformat": 4,
 "nbformat_minor": 2
}
